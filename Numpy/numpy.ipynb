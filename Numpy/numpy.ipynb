{
  "nbformat": 4,
  "nbformat_minor": 0,
  "metadata": {
    "colab": {
      "provenance": []
    },
    "kernelspec": {
      "name": "python3",
      "display_name": "Python 3"
    },
    "language_info": {
      "name": "python"
    }
  },
  "cells": [
    {
      "cell_type": "markdown",
      "source": [
        "**NumPy (Numerical Python)**\n",
        "\n",
        "\n",
        "*   Efficient storage and manipulation of numerical arrays is absolutely fundamental to the process of doing data science.\n",
        "*   Numy is a specialized tool for handling such numerical arrays.\n",
        "\n",
        "\n",
        "*   NumPy arrays are like Python's built-in list type, but NumPy arrays provide much more efficient storage and data operations as the arrays grow larger in size.\n",
        "\n",
        "*   NumPy arrays form the core of nearly the entire ecosystem of data science tools in\n",
        "Python.\n",
        "*   Thus, learning NumPy to use it effectively will be valuable no matter what aspect of\n",
        "data science interests you.\n",
        "\n",
        "\n",
        "\n",
        "\n",
        "\n",
        "\n",
        "\n",
        "\n"
      ],
      "metadata": {
        "id": "Vrb9ZshUfzLl"
      }
    },
    {
      "cell_type": "markdown",
      "source": [
        "**Import Numpy**"
      ],
      "metadata": {
        "id": "aDF-VMMugeNB"
      }
    },
    {
      "cell_type": "code",
      "source": [
        "import numpy"
      ],
      "metadata": {
        "id": "7bf5iHzHgA-h"
      },
      "execution_count": 1,
      "outputs": []
    },
    {
      "cell_type": "markdown",
      "source": [
        "But, by convention, most of the people in Python data science world will import numpy as\n",
        "np as an alias."
      ],
      "metadata": {
        "id": "qtaEuWNUgm0M"
      }
    },
    {
      "cell_type": "code",
      "source": [
        "import numpy as np"
      ],
      "metadata": {
        "id": "lsnLHSMzgpXV"
      },
      "execution_count": 2,
      "outputs": []
    },
    {
      "cell_type": "markdown",
      "source": [
        "**Numpy Version**"
      ],
      "metadata": {
        "id": "7Dc0T826gtjE"
      }
    },
    {
      "cell_type": "code",
      "source": [
        "np.__version__"
      ],
      "metadata": {
        "colab": {
          "base_uri": "https://localhost:8080/",
          "height": 36
        },
        "id": "-yNZnvwNgsSf",
        "outputId": "e4090cf3-66e0-48c2-8e99-1bf4ab038467"
      },
      "execution_count": 3,
      "outputs": [
        {
          "output_type": "execute_result",
          "data": {
            "text/plain": [
              "'1.22.4'"
            ],
            "application/vnd.google.colaboratory.intrinsic+json": {
              "type": "string"
            }
          },
          "metadata": {},
          "execution_count": 3
        }
      ]
    },
    {
      "cell_type": "markdown",
      "source": [
        "**Creating Arrays from Python Lists**"
      ],
      "metadata": {
        "id": "_xrglR5tg4He"
      }
    },
    {
      "cell_type": "code",
      "source": [
        "#integer array:\n",
        "np.array([2,4,6,8])"
      ],
      "metadata": {
        "colab": {
          "base_uri": "https://localhost:8080/"
        },
        "id": "tRXKzUnjg5j8",
        "outputId": "70b1f555-2117-42b6-ab89-a112dcd37055"
      },
      "execution_count": 4,
      "outputs": [
        {
          "output_type": "execute_result",
          "data": {
            "text/plain": [
              "array([2, 4, 6, 8])"
            ]
          },
          "metadata": {},
          "execution_count": 4
        }
      ]
    },
    {
      "cell_type": "markdown",
      "source": [
        "Remember that, NumPy arrays contain the same type of data. If does not match, it will\n",
        "upcast if possible."
      ],
      "metadata": {
        "id": "cdwUYMU_hCQu"
      }
    },
    {
      "cell_type": "code",
      "source": [
        "# Upcast to floating point array:\n",
        "np.array([2.5, 4, 6.7, 8, 10])"
      ],
      "metadata": {
        "colab": {
          "base_uri": "https://localhost:8080/"
        },
        "id": "i2y3wIrThGIJ",
        "outputId": "875a798c-5b3d-4e7f-ae85-3b694f619a6c"
      },
      "execution_count": 5,
      "outputs": [
        {
          "output_type": "execute_result",
          "data": {
            "text/plain": [
              "array([ 2.5,  4. ,  6.7,  8. , 10. ])"
            ]
          },
          "metadata": {},
          "execution_count": 5
        }
      ]
    },
    {
      "cell_type": "code",
      "source": [
        "# Explicitly set the datatype using `dtype` keyword.\n",
        "np.array([2, 4, 6, 8, 10], dtype = 'float32')"
      ],
      "metadata": {
        "colab": {
          "base_uri": "https://localhost:8080/"
        },
        "id": "wMx8VTGehsBj",
        "outputId": "872d04d3-5141-4671-b1e4-0ada51f7f6e7"
      },
      "execution_count": 6,
      "outputs": [
        {
          "output_type": "execute_result",
          "data": {
            "text/plain": [
              "array([ 2.,  4.,  6.,  8., 10.], dtype=float32)"
            ]
          },
          "metadata": {},
          "execution_count": 6
        }
      ]
    },
    {
      "cell_type": "markdown",
      "source": [
        "**Creating Arrays from Scratch**\n",
        "\n",
        "Especially for larger arrays, it is more efficient to create arrays from scratch using\n",
        "routines built into NumPy."
      ],
      "metadata": {
        "id": "SlWsbIxkh0a0"
      }
    },
    {
      "cell_type": "code",
      "source": [
        "# Create a length-10 integer array filled with zeros\n",
        "np.zeros(10, dtype=np.int16)"
      ],
      "metadata": {
        "colab": {
          "base_uri": "https://localhost:8080/"
        },
        "id": "ZCwDqw6fh6X1",
        "outputId": "68843fe4-2258-4bca-d762-cf51e770220b"
      },
      "execution_count": 7,
      "outputs": [
        {
          "output_type": "execute_result",
          "data": {
            "text/plain": [
              "array([0, 0, 0, 0, 0, 0, 0, 0, 0, 0], dtype=int16)"
            ]
          },
          "metadata": {},
          "execution_count": 7
        }
      ]
    },
    {
      "cell_type": "code",
      "source": [
        "# Create a length-10 floating point array filled with zeros\n",
        "np.zeros(10, dtype=np.int64) # float64 is default size for float of this"
      ],
      "metadata": {
        "colab": {
          "base_uri": "https://localhost:8080/"
        },
        "id": "Fvtouenml-Cj",
        "outputId": "14160cae-50e2-43b1-8723-bcd7ef0bd99f"
      },
      "execution_count": 8,
      "outputs": [
        {
          "output_type": "execute_result",
          "data": {
            "text/plain": [
              "array([0, 0, 0, 0, 0, 0, 0, 0, 0, 0])"
            ]
          },
          "metadata": {},
          "execution_count": 8
        }
      ]
    },
    {
      "cell_type": "code",
      "source": [
        "# Create a 3x4 floating-point array filled with ones\n",
        "np.ones((3,4), dtype=np.int64) # int64 is default size for int of this system ("
      ],
      "metadata": {
        "colab": {
          "base_uri": "https://localhost:8080/"
        },
        "id": "5S3MuyOvmdSn",
        "outputId": "8f4acff3-6f63-4eec-e083-0a6f26e59534"
      },
      "execution_count": 9,
      "outputs": [
        {
          "output_type": "execute_result",
          "data": {
            "text/plain": [
              "array([[1, 1, 1, 1],\n",
              "       [1, 1, 1, 1],\n",
              "       [1, 1, 1, 1]])"
            ]
          },
          "metadata": {},
          "execution_count": 9
        }
      ]
    },
    {
      "cell_type": "code",
      "source": [
        "# Create a 3x4 array filled with 2.1416\n",
        "np.full((3,4), 2.1416)"
      ],
      "metadata": {
        "colab": {
          "base_uri": "https://localhost:8080/"
        },
        "id": "sP5al4zXmvOY",
        "outputId": "4a1dd5f9-105c-471c-cf48-95e74eb2ece1"
      },
      "execution_count": 10,
      "outputs": [
        {
          "output_type": "execute_result",
          "data": {
            "text/plain": [
              "array([[2.1416, 2.1416, 2.1416, 2.1416],\n",
              "       [2.1416, 2.1416, 2.1416, 2.1416],\n",
              "       [2.1416, 2.1416, 2.1416, 2.1416]])"
            ]
          },
          "metadata": {},
          "execution_count": 10
        }
      ]
    },
    {
      "cell_type": "code",
      "source": [
        "# Create an array filled with a linear sequence\n",
        "# using np.arange(start, end, step)\n",
        "# (this is similar to the built-in range() function)\n",
        "np.arange(0,20,2)"
      ],
      "metadata": {
        "colab": {
          "base_uri": "https://localhost:8080/"
        },
        "id": "NjVz1ZsgnBwf",
        "outputId": "f9b0045f-f451-4df9-c793-f849a4768065"
      },
      "execution_count": 11,
      "outputs": [
        {
          "output_type": "execute_result",
          "data": {
            "text/plain": [
              "array([ 0,  2,  4,  6,  8, 10, 12, 14, 16, 18])"
            ]
          },
          "metadata": {},
          "execution_count": 11
        }
      ]
    },
    {
      "cell_type": "code",
      "source": [
        "# Create an array of five values evenly spaced between 0 and 1\n",
        "np.linspace(0,1,5)"
      ],
      "metadata": {
        "colab": {
          "base_uri": "https://localhost:8080/"
        },
        "id": "qJZTZlvonyX3",
        "outputId": "67bf1c1e-fb72-4466-dbe0-169bb14a9905"
      },
      "execution_count": 12,
      "outputs": [
        {
          "output_type": "execute_result",
          "data": {
            "text/plain": [
              "array([0.  , 0.25, 0.5 , 0.75, 1.  ])"
            ]
          },
          "metadata": {},
          "execution_count": 12
        }
      ]
    },
    {
      "cell_type": "code",
      "source": [
        "# Create a 3x3 array of uniformly distributed\n",
        "# random values between 0 and 1\n",
        "np.random.random((3,3))"
      ],
      "metadata": {
        "colab": {
          "base_uri": "https://localhost:8080/"
        },
        "id": "pYLMcqxaopyC",
        "outputId": "be2146c2-3f82-4554-ee62-f09637c81a5b"
      },
      "execution_count": 13,
      "outputs": [
        {
          "output_type": "execute_result",
          "data": {
            "text/plain": [
              "array([[0.8536141 , 0.11190766, 0.23989704],\n",
              "       [0.55268312, 0.3384163 , 0.7076622 ],\n",
              "       [0.67984031, 0.18356514, 0.06381417]])"
            ]
          },
          "metadata": {},
          "execution_count": 13
        }
      ]
    },
    {
      "cell_type": "code",
      "source": [
        "# Create a 3x3 array of normally distributed random values\n",
        "# with mean 0 and standard deviation 1\n",
        "np.random.normal(0,1,(3,3))"
      ],
      "metadata": {
        "colab": {
          "base_uri": "https://localhost:8080/"
        },
        "id": "s2OqNJxtpTLo",
        "outputId": "d0aa6ac0-ec35-452d-dcf9-8b5c545067f5"
      },
      "execution_count": 14,
      "outputs": [
        {
          "output_type": "execute_result",
          "data": {
            "text/plain": [
              "array([[-1.24716397, -1.45993407,  0.01472025],\n",
              "       [-1.01845259, -0.30964406, -0.28268983],\n",
              "       [-0.63088974, -0.79214096,  0.63207242]])"
            ]
          },
          "metadata": {},
          "execution_count": 14
        }
      ]
    },
    {
      "cell_type": "code",
      "source": [
        "# Create a 3x3 array of random integers in the interval [0, 10)\n",
        "np.random.randint(0,10,(3,3))"
      ],
      "metadata": {
        "colab": {
          "base_uri": "https://localhost:8080/"
        },
        "id": "j81U1yb0pfjF",
        "outputId": "04c8d652-cfec-45c7-f61d-fe5938b4734e"
      },
      "execution_count": 15,
      "outputs": [
        {
          "output_type": "execute_result",
          "data": {
            "text/plain": [
              "array([[8, 5, 2],\n",
              "       [2, 2, 3],\n",
              "       [7, 6, 8]])"
            ]
          },
          "metadata": {},
          "execution_count": 15
        }
      ]
    },
    {
      "cell_type": "code",
      "source": [
        "# Create a 5x5 identity matrix\n",
        "np.eye(5)"
      ],
      "metadata": {
        "colab": {
          "base_uri": "https://localhost:8080/"
        },
        "id": "J0D8Tf24qEDL",
        "outputId": "e5202910-a445-408f-92ec-5ae1762af6f7"
      },
      "execution_count": 16,
      "outputs": [
        {
          "output_type": "execute_result",
          "data": {
            "text/plain": [
              "array([[1., 0., 0., 0., 0.],\n",
              "       [0., 1., 0., 0., 0.],\n",
              "       [0., 0., 1., 0., 0.],\n",
              "       [0., 0., 0., 1., 0.],\n",
              "       [0., 0., 0., 0., 1.]])"
            ]
          },
          "metadata": {},
          "execution_count": 16
        }
      ]
    },
    {
      "cell_type": "code",
      "source": [
        "# Create an uninitialized array of five integers\n",
        "# The values will be whatever happens to already exist at that memory location\n",
        "np.empty(5)"
      ],
      "metadata": {
        "colab": {
          "base_uri": "https://localhost:8080/"
        },
        "id": "28yCNPObutiJ",
        "outputId": "2c3cddf2-40e1-42cf-b7d3-b6dca812bc09"
      },
      "execution_count": 17,
      "outputs": [
        {
          "output_type": "execute_result",
          "data": {
            "text/plain": [
              "array([1., 1., 1., 1., 1.])"
            ]
          },
          "metadata": {},
          "execution_count": 17
        }
      ]
    },
    {
      "cell_type": "markdown",
      "source": [
        "**NumPy Array Attributes**"
      ],
      "metadata": {
        "id": "NYLqfGHQuz_Z"
      }
    },
    {
      "cell_type": "code",
      "source": [
        "# seed for reproducibility\n",
        "# Ensure that the same random arrays are generated each time this code is run\n",
        "np.random.seed(0)\n",
        "\n",
        "x1= np.random.randint(10, size=6) #one dimentional array\n",
        "x2 = np.random.randint(10, size=(3,4))\n",
        "x3 = np.random.randint(10, size=(3,4,5))"
      ],
      "metadata": {
        "id": "k20rdiuqu5EH"
      },
      "execution_count": 18,
      "outputs": []
    },
    {
      "cell_type": "code",
      "source": [
        "x1 # One-dimensional array"
      ],
      "metadata": {
        "colab": {
          "base_uri": "https://localhost:8080/"
        },
        "id": "QrAJPrCavOLu",
        "outputId": "af8e5e5d-02fe-4669-91fe-94dbdaf89b5c"
      },
      "execution_count": 19,
      "outputs": [
        {
          "output_type": "execute_result",
          "data": {
            "text/plain": [
              "array([5, 0, 3, 3, 7, 9])"
            ]
          },
          "metadata": {},
          "execution_count": 19
        }
      ]
    },
    {
      "cell_type": "code",
      "source": [
        "x2 # Two-dimensional array"
      ],
      "metadata": {
        "colab": {
          "base_uri": "https://localhost:8080/"
        },
        "id": "qkQT1rFavaOF",
        "outputId": "3da16018-4a85-4733-c0b4-c92762cd0ae4"
      },
      "execution_count": 20,
      "outputs": [
        {
          "output_type": "execute_result",
          "data": {
            "text/plain": [
              "array([[3, 5, 2, 4],\n",
              "       [7, 6, 8, 8],\n",
              "       [1, 6, 7, 7]])"
            ]
          },
          "metadata": {},
          "execution_count": 20
        }
      ]
    },
    {
      "cell_type": "code",
      "source": [
        "x3 # Three-dimensional array"
      ],
      "metadata": {
        "colab": {
          "base_uri": "https://localhost:8080/"
        },
        "id": "isSliI4_yqpd",
        "outputId": "8f628ad7-cbd9-464d-9038-372f6754ed84"
      },
      "execution_count": 21,
      "outputs": [
        {
          "output_type": "execute_result",
          "data": {
            "text/plain": [
              "array([[[8, 1, 5, 9, 8],\n",
              "        [9, 4, 3, 0, 3],\n",
              "        [5, 0, 2, 3, 8],\n",
              "        [1, 3, 3, 3, 7]],\n",
              "\n",
              "       [[0, 1, 9, 9, 0],\n",
              "        [4, 7, 3, 2, 7],\n",
              "        [2, 0, 0, 4, 5],\n",
              "        [5, 6, 8, 4, 1]],\n",
              "\n",
              "       [[4, 9, 8, 1, 1],\n",
              "        [7, 9, 9, 3, 6],\n",
              "        [7, 2, 0, 3, 5],\n",
              "        [9, 4, 4, 6, 4]]])"
            ]
          },
          "metadata": {},
          "execution_count": 21
        }
      ]
    },
    {
      "cell_type": "code",
      "source": [
        "# Example of NumPy array attributes\n",
        "print(\"x3 ndim: \", x3.ndim) #ndim (the number of dimensions)\n",
        "print(\"x3 shape: \", x2.shape) #shape (the size of each dimension)\n",
        "print(\"x3 size: \", x3.size) #size (the total size of the array)\n",
        "print(\"x3 dtype: \", x3.dtype) #data type of the array \n",
        "print(\"x3 itemsize:\", x3.itemsize, \"bytes\") # size (in bytes) of each array element\n",
        "print(\"x3 nbytes:\", x3.nbytes, \"bytes\") # total size (in bytes) of the array"
      ],
      "metadata": {
        "colab": {
          "base_uri": "https://localhost:8080/"
        },
        "id": "QUNN1EM1y73Q",
        "outputId": "330169ea-f5df-44aa-f22f-a06ad1c2c67a"
      },
      "execution_count": 22,
      "outputs": [
        {
          "output_type": "stream",
          "name": "stdout",
          "text": [
            "x3 ndim:  3\n",
            "x3 shape:  (3, 4)\n",
            "x3 size:  60\n",
            "x3 dtype:  int64\n",
            "x3 itemsize: 8 bytes\n",
            "x3 nbytes: 480 bytes\n"
          ]
        }
      ]
    },
    {
      "cell_type": "markdown",
      "source": [
        "In general, we expect that nbytes is equal to itemsize times size ."
      ],
      "metadata": {
        "id": "84juCGDbEv80"
      }
    },
    {
      "cell_type": "markdown",
      "source": [],
      "metadata": {
        "id": "QwwxU-cigs2M"
      }
    },
    {
      "cell_type": "markdown",
      "source": [
        "**Array Indexing**\n",
        "\n",
        "In a one-dimensional array, the ith value (counting from zero) can be accessed by\n",
        "specifying the desired index in square brackets, just as with Python lists."
      ],
      "metadata": {
        "id": "4dD-aMZ_Ey4n"
      }
    },
    {
      "cell_type": "code",
      "source": [
        "x1"
      ],
      "metadata": {
        "colab": {
          "base_uri": "https://localhost:8080/"
        },
        "id": "YPq5FxZxE3mR",
        "outputId": "b7bcfb78-4e91-48f6-dabd-3c78a884268d"
      },
      "execution_count": 23,
      "outputs": [
        {
          "output_type": "execute_result",
          "data": {
            "text/plain": [
              "array([5, 0, 3, 3, 7, 9])"
            ]
          },
          "metadata": {},
          "execution_count": 23
        }
      ]
    },
    {
      "cell_type": "code",
      "source": [
        "x1[0] # first element"
      ],
      "metadata": {
        "colab": {
          "base_uri": "https://localhost:8080/"
        },
        "id": "m5LbUazyE8Mm",
        "outputId": "2abfdfba-0e08-4669-e591-82c7dda612f2"
      },
      "execution_count": 24,
      "outputs": [
        {
          "output_type": "execute_result",
          "data": {
            "text/plain": [
              "5"
            ]
          },
          "metadata": {},
          "execution_count": 24
        }
      ]
    },
    {
      "cell_type": "code",
      "source": [
        "x1[-1] # Negative indxing, last element"
      ],
      "metadata": {
        "colab": {
          "base_uri": "https://localhost:8080/"
        },
        "id": "iQLvpCWwE8I-",
        "outputId": "2b4f34d3-6523-4a7a-c751-f79abaa62717"
      },
      "execution_count": 25,
      "outputs": [
        {
          "output_type": "execute_result",
          "data": {
            "text/plain": [
              "9"
            ]
          },
          "metadata": {},
          "execution_count": 25
        }
      ]
    },
    {
      "cell_type": "markdown",
      "source": [
        "In a multi-dimensional array, items can be accessed using a comma-separated tuple of\n",
        "indices."
      ],
      "metadata": {
        "id": "6z3F8q04FDme"
      }
    },
    {
      "cell_type": "code",
      "source": [
        "x2"
      ],
      "metadata": {
        "colab": {
          "base_uri": "https://localhost:8080/"
        },
        "id": "KcfWKBExFFVn",
        "outputId": "b6646807-a8d5-45c7-f21b-2086893b0148"
      },
      "execution_count": 26,
      "outputs": [
        {
          "output_type": "execute_result",
          "data": {
            "text/plain": [
              "array([[3, 5, 2, 4],\n",
              "       [7, 6, 8, 8],\n",
              "       [1, 6, 7, 7]])"
            ]
          },
          "metadata": {},
          "execution_count": 26
        }
      ]
    },
    {
      "cell_type": "code",
      "source": [
        "x2[0,0] # first row, first column"
      ],
      "metadata": {
        "colab": {
          "base_uri": "https://localhost:8080/"
        },
        "id": "UPQeLWg4FJy0",
        "outputId": "d0ee179f-ce2d-41ed-cb8b-4ff39217f9e4"
      },
      "execution_count": 27,
      "outputs": [
        {
          "output_type": "execute_result",
          "data": {
            "text/plain": [
              "3"
            ]
          },
          "metadata": {},
          "execution_count": 27
        }
      ]
    },
    {
      "cell_type": "code",
      "source": [
        "x2[2, -1] # 3rd row, last index"
      ],
      "metadata": {
        "colab": {
          "base_uri": "https://localhost:8080/"
        },
        "id": "ZgSUX4ccGHt2",
        "outputId": "c691ad5d-65f5-4035-cf6a-acd7a6caa17a"
      },
      "execution_count": 28,
      "outputs": [
        {
          "output_type": "execute_result",
          "data": {
            "text/plain": [
              "7"
            ]
          },
          "metadata": {},
          "execution_count": 28
        }
      ]
    },
    {
      "cell_type": "markdown",
      "source": [
        "Values can also be modified using any of the above index notation."
      ],
      "metadata": {
        "id": "8DPIYKSEGYBX"
      }
    },
    {
      "cell_type": "code",
      "source": [
        "x2[1, -1] = 9\n",
        "x2"
      ],
      "metadata": {
        "colab": {
          "base_uri": "https://localhost:8080/"
        },
        "id": "0qAHxCTmGWU7",
        "outputId": "d3e9adca-f381-4d4b-fadb-913367ee2da0"
      },
      "execution_count": 29,
      "outputs": [
        {
          "output_type": "execute_result",
          "data": {
            "text/plain": [
              "array([[3, 5, 2, 4],\n",
              "       [7, 6, 8, 9],\n",
              "       [1, 6, 7, 7]])"
            ]
          },
          "metadata": {},
          "execution_count": 29
        }
      ]
    },
    {
      "cell_type": "markdown",
      "source": [
        "But remember that, unlike Python lists, NumPy arrays have a fixed type. This means, for\n",
        "example, that if you attempt to insert a floating-point value to an integer array, the value\n",
        "will be silently truncated. Don't be caught unaware by this behavior!"
      ],
      "metadata": {
        "id": "tzviY5YZGqZx"
      }
    },
    {
      "cell_type": "code",
      "source": [
        "x1[0] = 2.1416 # this will be truncated!\n",
        "x1"
      ],
      "metadata": {
        "colab": {
          "base_uri": "https://localhost:8080/"
        },
        "id": "K-jrXSf3GrUL",
        "outputId": "eaa085ff-11e6-43b3-e6a5-b0426fc3612b"
      },
      "execution_count": 30,
      "outputs": [
        {
          "output_type": "execute_result",
          "data": {
            "text/plain": [
              "array([2, 0, 3, 3, 7, 9])"
            ]
          },
          "metadata": {},
          "execution_count": 30
        }
      ]
    },
    {
      "cell_type": "markdown",
      "source": [
        "\n",
        "**Array Slicing**\n",
        "\n",
        "The NumPy slicing syntax follows that of the standard Python list.\n",
        "array_name[start:stop:step]\n",
        "If any of these are unspecified, they default to the values start=0 , stop=size of\n",
        "dimension , step=1 ."
      ],
      "metadata": {
        "id": "SsSpgDjUGxFB"
      }
    },
    {
      "cell_type": "code",
      "source": [
        "x = np.arange(10)\n",
        "x"
      ],
      "metadata": {
        "colab": {
          "base_uri": "https://localhost:8080/"
        },
        "id": "L6cUbVYlG_4j",
        "outputId": "1cd05722-9876-49e2-ca6a-c382339599dd"
      },
      "execution_count": 31,
      "outputs": [
        {
          "output_type": "execute_result",
          "data": {
            "text/plain": [
              "array([0, 1, 2, 3, 4, 5, 6, 7, 8, 9])"
            ]
          },
          "metadata": {},
          "execution_count": 31
        }
      ]
    },
    {
      "cell_type": "code",
      "source": [
        "x[:5] # first five elements"
      ],
      "metadata": {
        "colab": {
          "base_uri": "https://localhost:8080/"
        },
        "id": "5NkG-2O-HDiE",
        "outputId": "d87deec0-5fe7-4c12-9303-aa14dfaf206d"
      },
      "execution_count": 32,
      "outputs": [
        {
          "output_type": "execute_result",
          "data": {
            "text/plain": [
              "array([0, 1, 2, 3, 4])"
            ]
          },
          "metadata": {},
          "execution_count": 32
        }
      ]
    },
    {
      "cell_type": "code",
      "source": [
        "x[5:] # elements from index 5"
      ],
      "metadata": {
        "colab": {
          "base_uri": "https://localhost:8080/"
        },
        "id": "ICtrsFFwHOV1",
        "outputId": "4621b564-fec6-4fb7-ad6b-f6485e765e29"
      },
      "execution_count": 33,
      "outputs": [
        {
          "output_type": "execute_result",
          "data": {
            "text/plain": [
              "array([5, 6, 7, 8, 9])"
            ]
          },
          "metadata": {},
          "execution_count": 33
        }
      ]
    },
    {
      "cell_type": "code",
      "source": [
        "x[3:7] # sub-array from index 3 to 7"
      ],
      "metadata": {
        "colab": {
          "base_uri": "https://localhost:8080/"
        },
        "id": "U51xZtEaHOD5",
        "outputId": "76669ecd-4d69-4845-b219-c3e8da1c62fe"
      },
      "execution_count": 34,
      "outputs": [
        {
          "output_type": "execute_result",
          "data": {
            "text/plain": [
              "array([3, 4, 5, 6])"
            ]
          },
          "metadata": {},
          "execution_count": 34
        }
      ]
    },
    {
      "cell_type": "code",
      "source": [
        "x[::2] # starting from 0 and step is 2"
      ],
      "metadata": {
        "colab": {
          "base_uri": "https://localhost:8080/"
        },
        "id": "jJJD57ajHWAS",
        "outputId": "63405393-c435-4004-942d-8f442138727e"
      },
      "execution_count": 35,
      "outputs": [
        {
          "output_type": "execute_result",
          "data": {
            "text/plain": [
              "array([0, 2, 4, 6, 8])"
            ]
          },
          "metadata": {},
          "execution_count": 35
        }
      ]
    },
    {
      "cell_type": "code",
      "source": [
        "x[1::2] # starting from 1 and step is 2"
      ],
      "metadata": {
        "colab": {
          "base_uri": "https://localhost:8080/"
        },
        "id": "7UVy6neSHY9y",
        "outputId": "8a03c32b-70d0-495e-8227-ecdaf2198d00"
      },
      "execution_count": 36,
      "outputs": [
        {
          "output_type": "execute_result",
          "data": {
            "text/plain": [
              "array([1, 3, 5, 7, 9])"
            ]
          },
          "metadata": {},
          "execution_count": 36
        }
      ]
    },
    {
      "cell_type": "markdown",
      "source": [
        "A potentially confusing case is when the step value is negative. In this case, the\n",
        "defaults for start and stop are swapped. This becomes a convenient way to reverse\n",
        "an array."
      ],
      "metadata": {
        "id": "BbnGNYt8JsH_"
      }
    },
    {
      "cell_type": "code",
      "source": [
        "x[::-1] # all elements, reversed"
      ],
      "metadata": {
        "colab": {
          "base_uri": "https://localhost:8080/"
        },
        "id": "aNkzWqVqJs4K",
        "outputId": "906e56a3-5afb-4c0a-e7a1-50505d4cc118"
      },
      "execution_count": 37,
      "outputs": [
        {
          "output_type": "execute_result",
          "data": {
            "text/plain": [
              "array([9, 8, 7, 6, 5, 4, 3, 2, 1, 0])"
            ]
          },
          "metadata": {},
          "execution_count": 37
        }
      ]
    },
    {
      "cell_type": "code",
      "source": [
        "x"
      ],
      "metadata": {
        "colab": {
          "base_uri": "https://localhost:8080/"
        },
        "id": "7ONH0wfpJ5p3",
        "outputId": "257906b0-1253-4269-d179-2d02fabb6f60"
      },
      "execution_count": 38,
      "outputs": [
        {
          "output_type": "execute_result",
          "data": {
            "text/plain": [
              "array([0, 1, 2, 3, 4, 5, 6, 7, 8, 9])"
            ]
          },
          "metadata": {},
          "execution_count": 38
        }
      ]
    },
    {
      "cell_type": "code",
      "source": [
        "x[5::-2] # reversed every other from index 5"
      ],
      "metadata": {
        "colab": {
          "base_uri": "https://localhost:8080/"
        },
        "id": "TRqlkOpAJ-Hg",
        "outputId": "a41ab51b-a2c9-4aa9-fb11-0375c22b5409"
      },
      "execution_count": 39,
      "outputs": [
        {
          "output_type": "execute_result",
          "data": {
            "text/plain": [
              "array([5, 3, 1])"
            ]
          },
          "metadata": {},
          "execution_count": 39
        }
      ]
    },
    {
      "cell_type": "markdown",
      "source": [
        "Multi-dimensional slices work in the same way, with multiple slices separated by\n",
        "commas."
      ],
      "metadata": {
        "id": "6Soxf0VvKBfB"
      }
    },
    {
      "cell_type": "code",
      "source": [
        "x2"
      ],
      "metadata": {
        "colab": {
          "base_uri": "https://localhost:8080/"
        },
        "id": "2xxuHgjwKDTP",
        "outputId": "69d87577-9ab5-4dd8-97ae-3f98db63c11a"
      },
      "execution_count": 40,
      "outputs": [
        {
          "output_type": "execute_result",
          "data": {
            "text/plain": [
              "array([[3, 5, 2, 4],\n",
              "       [7, 6, 8, 9],\n",
              "       [1, 6, 7, 7]])"
            ]
          },
          "metadata": {},
          "execution_count": 40
        }
      ]
    },
    {
      "cell_type": "code",
      "source": [
        "x2[:2, :3] # two rows, three columns"
      ],
      "metadata": {
        "colab": {
          "base_uri": "https://localhost:8080/"
        },
        "id": "ztxouwHAKKXW",
        "outputId": "3f362d08-ba3e-4d84-ead9-6bab7081c9fd"
      },
      "execution_count": 41,
      "outputs": [
        {
          "output_type": "execute_result",
          "data": {
            "text/plain": [
              "array([[3, 5, 2],\n",
              "       [7, 6, 8]])"
            ]
          },
          "metadata": {},
          "execution_count": 41
        }
      ]
    },
    {
      "cell_type": "code",
      "source": [
        "x2[::-1, ::-1] # reversed"
      ],
      "metadata": {
        "colab": {
          "base_uri": "https://localhost:8080/"
        },
        "id": "wLrer2vjKOlx",
        "outputId": "3ba3af90-bf29-4d0f-8e77-1c5ddbec25cb"
      },
      "execution_count": 42,
      "outputs": [
        {
          "output_type": "execute_result",
          "data": {
            "text/plain": [
              "array([[7, 7, 6, 1],\n",
              "       [9, 8, 6, 7],\n",
              "       [4, 2, 5, 3]])"
            ]
          },
          "metadata": {},
          "execution_count": 42
        }
      ]
    },
    {
      "cell_type": "markdown",
      "source": [
        "**Accessing array rows and columns**\n",
        "\n",
        "One commonly needed routine is accessing of single rows or columns of an array. This\n",
        "can be done by combining indexing and slicing, using an empty slice marked by a single\n",
        "colon (:)."
      ],
      "metadata": {
        "id": "IAvMGhc-KaS0"
      }
    },
    {
      "cell_type": "code",
      "source": [
        "x2"
      ],
      "metadata": {
        "colab": {
          "base_uri": "https://localhost:8080/"
        },
        "id": "_gztZi1YKc8y",
        "outputId": "e4d020d4-fa80-40e9-a4f9-e7b3dda905ff"
      },
      "execution_count": 43,
      "outputs": [
        {
          "output_type": "execute_result",
          "data": {
            "text/plain": [
              "array([[3, 5, 2, 4],\n",
              "       [7, 6, 8, 9],\n",
              "       [1, 6, 7, 7]])"
            ]
          },
          "metadata": {},
          "execution_count": 43
        }
      ]
    },
    {
      "cell_type": "code",
      "source": [
        "print(x2[:, 0]) # first column of x2"
      ],
      "metadata": {
        "colab": {
          "base_uri": "https://localhost:8080/"
        },
        "id": "6oPIdqSGKoqb",
        "outputId": "3350e35b-51f5-4227-f2fe-436658ca7bba"
      },
      "execution_count": 44,
      "outputs": [
        {
          "output_type": "stream",
          "name": "stdout",
          "text": [
            "[3 7 1]\n"
          ]
        }
      ]
    },
    {
      "cell_type": "code",
      "source": [
        "print(x2[0, :]) # first row of x2"
      ],
      "metadata": {
        "colab": {
          "base_uri": "https://localhost:8080/"
        },
        "id": "MbhXNAuIKsJW",
        "outputId": "1f6b7448-5d48-4f55-f9be-ecf403b5987c"
      },
      "execution_count": 45,
      "outputs": [
        {
          "output_type": "stream",
          "name": "stdout",
          "text": [
            "[3 5 2 4]\n"
          ]
        }
      ]
    },
    {
      "cell_type": "markdown",
      "source": [
        "In the case of row access, the empty slice can be omitted for a more compact syntax."
      ],
      "metadata": {
        "id": "qyro_SxSKyJ_"
      }
    },
    {
      "cell_type": "code",
      "source": [
        "print(x2[0]) # equivalent to x2[0, :]"
      ],
      "metadata": {
        "colab": {
          "base_uri": "https://localhost:8080/"
        },
        "id": "P9bfzX0HKzkW",
        "outputId": "73286855-df4b-4125-a644-15c40c884ecc"
      },
      "execution_count": 46,
      "outputs": [
        {
          "output_type": "stream",
          "name": "stdout",
          "text": [
            "[3 5 2 4]\n"
          ]
        }
      ]
    },
    {
      "cell_type": "markdown",
      "source": [
        "**Subarrays as no-copy views**\n",
        "\n",
        "NumPy array slicing differs from Python list slicing:\n",
        "\n",
        "\n",
        "*   in lists, slices will be copies, and\n",
        "*   in NumPy array slices return views.\n",
        "\n",
        "\n",
        "\n"
      ],
      "metadata": {
        "id": "s9mshOZELN91"
      }
    },
    {
      "cell_type": "code",
      "source": [
        "print(x2)"
      ],
      "metadata": {
        "id": "GE8OBga3Lftl",
        "outputId": "686049e6-88a3-4ee2-95ca-970a527c189f",
        "colab": {
          "base_uri": "https://localhost:8080/"
        }
      },
      "execution_count": 47,
      "outputs": [
        {
          "output_type": "stream",
          "name": "stdout",
          "text": [
            "[[3 5 2 4]\n",
            " [7 6 8 9]\n",
            " [1 6 7 7]]\n"
          ]
        }
      ]
    },
    {
      "cell_type": "code",
      "source": [
        "# extract a 2×2 subarray from x2 array\n",
        "x2_sub = x2[:2, :2]\n",
        "print(x2_sub)"
      ],
      "metadata": {
        "colab": {
          "base_uri": "https://localhost:8080/"
        },
        "id": "UZiD9FbuOtjA",
        "outputId": "68ac5f69-db33-4c70-bdff-18389ffa6450"
      },
      "execution_count": 48,
      "outputs": [
        {
          "output_type": "stream",
          "name": "stdout",
          "text": [
            "[[3 5]\n",
            " [7 6]]\n"
          ]
        }
      ]
    },
    {
      "cell_type": "code",
      "source": [
        "# modify x2_sub subarray\n",
        "x2_sub[0, 0] = 88\n",
        "print(x2_sub)"
      ],
      "metadata": {
        "colab": {
          "base_uri": "https://localhost:8080/"
        },
        "id": "PEjl6eYgO3IN",
        "outputId": "802eed25-32e9-4c59-a321-297cd90c7972"
      },
      "execution_count": 49,
      "outputs": [
        {
          "output_type": "stream",
          "name": "stdout",
          "text": [
            "[[88  5]\n",
            " [ 7  6]]\n"
          ]
        }
      ]
    },
    {
      "cell_type": "markdown",
      "source": [
        "This default behavior is useful when we work with large datasets, we can access and\n",
        "process pieces of these datasets without the need to copy the underlying data buffer.\n",
        "\n",
        "**Creating copies of arrays**\n",
        "\n",
        " \n",
        "\n",
        "*   copy() method can be used to copy an array or subarray.\n",
        "*   In this case if we now modify this new array or subarray, the original array is not touched/changd.\n",
        "\n",
        "\n"
      ],
      "metadata": {
        "id": "lKopKvJpPBsR"
      }
    },
    {
      "cell_type": "code",
      "source": [
        "x2 # original array"
      ],
      "metadata": {
        "colab": {
          "base_uri": "https://localhost:8080/"
        },
        "id": "BRPxtyWYPQA_",
        "outputId": "ad280a5a-4f36-4182-d66b-e0e45ffcb814"
      },
      "execution_count": 50,
      "outputs": [
        {
          "output_type": "execute_result",
          "data": {
            "text/plain": [
              "array([[88,  5,  2,  4],\n",
              "       [ 7,  6,  8,  9],\n",
              "       [ 1,  6,  7,  7]])"
            ]
          },
          "metadata": {},
          "execution_count": 50
        }
      ]
    },
    {
      "cell_type": "code",
      "source": [
        "# copy a subarray\n",
        "x2_sub_copy = x2[:2, :2].copy()\n",
        "print(x2_sub_copy)"
      ],
      "metadata": {
        "colab": {
          "base_uri": "https://localhost:8080/"
        },
        "id": "eZVhS7bXPTbG",
        "outputId": "50bd3155-9491-45f4-9e2d-e7cdfda0bd2f"
      },
      "execution_count": 51,
      "outputs": [
        {
          "output_type": "stream",
          "name": "stdout",
          "text": [
            "[[88  5]\n",
            " [ 7  6]]\n"
          ]
        }
      ]
    },
    {
      "cell_type": "code",
      "source": [
        "# now, modify the subarray\n",
        "x2_sub_copy[0, 0] = 44\n",
        "print(x2_sub_copy)"
      ],
      "metadata": {
        "colab": {
          "base_uri": "https://localhost:8080/"
        },
        "id": "RkNtBWQxPhHT",
        "outputId": "ce9473f7-b5d6-4cd8-cf6b-5c335c1ace2e"
      },
      "execution_count": 52,
      "outputs": [
        {
          "output_type": "stream",
          "name": "stdout",
          "text": [
            "[[44  5]\n",
            " [ 7  6]]\n"
          ]
        }
      ]
    },
    {
      "cell_type": "code",
      "source": [
        "# original array x2 is not touched\n",
        "print(x2)"
      ],
      "metadata": {
        "colab": {
          "base_uri": "https://localhost:8080/"
        },
        "id": "ed-sRof0PmWe",
        "outputId": "0afa16e9-fff9-496a-9d21-b7c0a35426f0"
      },
      "execution_count": 53,
      "outputs": [
        {
          "output_type": "stream",
          "name": "stdout",
          "text": [
            "[[88  5  2  4]\n",
            " [ 7  6  8  9]\n",
            " [ 1  6  7  7]]\n"
          ]
        }
      ]
    },
    {
      "cell_type": "markdown",
      "source": [
        "\n",
        "**Reshaping of Arrays**\n",
        "\n",
        "\n",
        "*   Using reshape() method\n",
        "*   Size of the initial array must match the size of the reshaped array\n",
        "\n",
        "\n",
        "\n"
      ],
      "metadata": {
        "id": "ypQHYL9hPo_U"
      }
    },
    {
      "cell_type": "code",
      "source": [
        "# 3×3\n",
        "grid = np.arange(1, 10).reshape((3,3))\n",
        "print(grid)"
      ],
      "metadata": {
        "colab": {
          "base_uri": "https://localhost:8080/"
        },
        "id": "90Hw5WESPxvq",
        "outputId": "5818f34d-7318-4a50-964c-f186e3d7b73e"
      },
      "execution_count": 54,
      "outputs": [
        {
          "output_type": "stream",
          "name": "stdout",
          "text": [
            "[[1 2 3]\n",
            " [4 5 6]\n",
            " [7 8 9]]\n"
          ]
        }
      ]
    },
    {
      "cell_type": "code",
      "source": [
        "x = np.array([1, 2, 3])\n",
        "x"
      ],
      "metadata": {
        "colab": {
          "base_uri": "https://localhost:8080/"
        },
        "id": "D_WmD8lyRKEq",
        "outputId": "b33f309f-198d-442b-9718-2928e47e3cd7"
      },
      "execution_count": 56,
      "outputs": [
        {
          "output_type": "execute_result",
          "data": {
            "text/plain": [
              "array([1, 2, 3])"
            ]
          },
          "metadata": {},
          "execution_count": 56
        }
      ]
    },
    {
      "cell_type": "code",
      "source": [
        "# row vector via reshape\n",
        "x.reshape((1, 3))"
      ],
      "metadata": {
        "colab": {
          "base_uri": "https://localhost:8080/"
        },
        "id": "y812Tfw2RGZh",
        "outputId": "66cef308-581e-4c95-d778-dbd6c21b2d7f"
      },
      "execution_count": 57,
      "outputs": [
        {
          "output_type": "execute_result",
          "data": {
            "text/plain": [
              "array([[1, 2, 3]])"
            ]
          },
          "metadata": {},
          "execution_count": 57
        }
      ]
    },
    {
      "cell_type": "code",
      "source": [
        "# column vector via reshape\n",
        "x.reshape((3, 1))"
      ],
      "metadata": {
        "colab": {
          "base_uri": "https://localhost:8080/"
        },
        "id": "lzmCehHLRPm3",
        "outputId": "a4166c5a-f360-43ee-ff68-550f4ce0f598"
      },
      "execution_count": 58,
      "outputs": [
        {
          "output_type": "execute_result",
          "data": {
            "text/plain": [
              "array([[1],\n",
              "       [2],\n",
              "       [3]])"
            ]
          },
          "metadata": {},
          "execution_count": 58
        }
      ]
    },
    {
      "cell_type": "markdown",
      "source": [
        "**Array Concatenation**\n",
        "\n",
        "Concatenation, or joining of two arrays in NumPy, is primarily accomplished using\n",
        "np.concatenate , np.vstack , and np.hstack ."
      ],
      "metadata": {
        "id": "28lHQ5O1RV88"
      }
    },
    {
      "cell_type": "code",
      "source": [
        "# Using concatenate() method\n",
        "x = np.array([1, 2, 3])\n",
        "y = np.array([3, 2, 1])\n",
        "np.concatenate([x, y])"
      ],
      "metadata": {
        "colab": {
          "base_uri": "https://localhost:8080/"
        },
        "id": "HVSvanlwRVSQ",
        "outputId": "7c996618-5c35-4e59-ef7e-b26335b7b95b"
      },
      "execution_count": 59,
      "outputs": [
        {
          "output_type": "execute_result",
          "data": {
            "text/plain": [
              "array([1, 2, 3, 3, 2, 1])"
            ]
          },
          "metadata": {},
          "execution_count": 59
        }
      ]
    },
    {
      "cell_type": "code",
      "source": [
        "# More than two arrays at once\n",
        "z = [99, 99, 99]\n",
        "np.concatenate([x, y, z])"
      ],
      "metadata": {
        "colab": {
          "base_uri": "https://localhost:8080/"
        },
        "id": "OL2cBMSvR-k3",
        "outputId": "368b8ced-37d5-4b7d-e7fa-07911836d64c"
      },
      "execution_count": 60,
      "outputs": [
        {
          "output_type": "execute_result",
          "data": {
            "text/plain": [
              "array([ 1,  2,  3,  3,  2,  1, 99, 99, 99])"
            ]
          },
          "metadata": {},
          "execution_count": 60
        }
      ]
    },
    {
      "cell_type": "code",
      "source": [
        "# concatenate two dimentional array\n",
        "grid = np.array([[1, 2, 3],\n",
        "[4, 5, 6]])\n",
        "# concatenate along the first axis\n",
        "np.concatenate([grid, grid])"
      ],
      "metadata": {
        "colab": {
          "base_uri": "https://localhost:8080/"
        },
        "id": "wdDGvijKSCPB",
        "outputId": "0af4d30c-dd2c-4851-f7c3-f05b8f1b1c99"
      },
      "execution_count": 61,
      "outputs": [
        {
          "output_type": "execute_result",
          "data": {
            "text/plain": [
              "array([[1, 2, 3],\n",
              "       [4, 5, 6],\n",
              "       [1, 2, 3],\n",
              "       [4, 5, 6]])"
            ]
          },
          "metadata": {},
          "execution_count": 61
        }
      ]
    },
    {
      "cell_type": "code",
      "source": [
        "# concatenate along the second axis (zero-indexed)\n",
        "np.concatenate([grid, grid], axis=1)"
      ],
      "metadata": {
        "colab": {
          "base_uri": "https://localhost:8080/"
        },
        "id": "qol4-0u_SGO7",
        "outputId": "2038809f-9619-43e0-904f-387932c8bf21"
      },
      "execution_count": 62,
      "outputs": [
        {
          "output_type": "execute_result",
          "data": {
            "text/plain": [
              "array([[1, 2, 3, 1, 2, 3],\n",
              "       [4, 5, 6, 4, 5, 6]])"
            ]
          },
          "metadata": {},
          "execution_count": 62
        }
      ]
    },
    {
      "cell_type": "markdown",
      "source": [
        "For working with arrays of mixed dimensions, it can be clearer to use the np.vstack\n",
        "(vertical stack) and np.hstack (horizontal stack) functions."
      ],
      "metadata": {
        "id": "E74TynH2SJjy"
      }
    },
    {
      "cell_type": "code",
      "source": [
        "x = np.array([1, 2, 3])\n",
        "grid = np.array([[9, 8, 7],\n",
        "[6, 5, 4]])\n",
        "# vertically stack the arrays\n",
        "np.vstack([x, grid])"
      ],
      "metadata": {
        "colab": {
          "base_uri": "https://localhost:8080/"
        },
        "id": "4mkdgmR_SKkG",
        "outputId": "bfe8b3d8-2f28-470a-868f-03be4127ffd4"
      },
      "execution_count": 63,
      "outputs": [
        {
          "output_type": "execute_result",
          "data": {
            "text/plain": [
              "array([[1, 2, 3],\n",
              "       [9, 8, 7],\n",
              "       [6, 5, 4]])"
            ]
          },
          "metadata": {},
          "execution_count": 63
        }
      ]
    },
    {
      "cell_type": "code",
      "source": [
        "# horizontally stack the arrays\n",
        "y = np.array([[99],\n",
        "[99]])\n",
        "np.hstack([grid, y])"
      ],
      "metadata": {
        "colab": {
          "base_uri": "https://localhost:8080/"
        },
        "id": "jbLzxRgoSWYs",
        "outputId": "9a21e003-ddf6-4229-fe84-b9bdadeac855"
      },
      "execution_count": 64,
      "outputs": [
        {
          "output_type": "execute_result",
          "data": {
            "text/plain": [
              "array([[ 9,  8,  7, 99],\n",
              "       [ 6,  5,  4, 99]])"
            ]
          },
          "metadata": {},
          "execution_count": 64
        }
      ]
    },
    {
      "cell_type": "markdown",
      "source": [
        "**Array Splitting**\n",
        "\n",
        "\n",
        "*   The opposite of concatenation is splitting, which is implemented using np.split , np.hsplit , and np.vsplit functions.\n",
        "*  For each of these, we can pass a list of indices giving the split points\n",
        "\n",
        "\n"
      ],
      "metadata": {
        "id": "_-YcvMObSdRV"
      }
    },
    {
      "cell_type": "code",
      "source": [
        "x = [1, 2, 3, 99, 99, 3, 2, 1]\n",
        "x1, x2, x3 = np.split(x, [3, 5])\n",
        "print(x1, x2, x3)"
      ],
      "metadata": {
        "colab": {
          "base_uri": "https://localhost:8080/"
        },
        "id": "_PmKF9FYSlzz",
        "outputId": "2bedca2a-9edc-41d5-a9a5-b9f50bc9d347"
      },
      "execution_count": 65,
      "outputs": [
        {
          "output_type": "stream",
          "name": "stdout",
          "text": [
            "[1 2 3] [99 99] [3 2 1]\n"
          ]
        }
      ]
    },
    {
      "cell_type": "markdown",
      "source": [
        "Notice that N split-points, leads to N + 1 subarrays. The related functions\n",
        "np.hsplit and np.vsplit are similar."
      ],
      "metadata": {
        "id": "3bwpVTtCS6WA"
      }
    },
    {
      "cell_type": "code",
      "source": [
        "grid = np.arange(16).reshape((4, 4))\n",
        "grid"
      ],
      "metadata": {
        "colab": {
          "base_uri": "https://localhost:8080/"
        },
        "id": "eK_Em00TS4uY",
        "outputId": "bf40efca-673f-4750-ac86-ebb4d8e78bae"
      },
      "execution_count": 66,
      "outputs": [
        {
          "output_type": "execute_result",
          "data": {
            "text/plain": [
              "array([[ 0,  1,  2,  3],\n",
              "       [ 4,  5,  6,  7],\n",
              "       [ 8,  9, 10, 11],\n",
              "       [12, 13, 14, 15]])"
            ]
          },
          "metadata": {},
          "execution_count": 66
        }
      ]
    },
    {
      "cell_type": "code",
      "source": [
        "upper, lower = np.vsplit(grid, [2])\n",
        "print(upper)\n",
        "print(lower)"
      ],
      "metadata": {
        "colab": {
          "base_uri": "https://localhost:8080/"
        },
        "id": "ukq_4wbATGA6",
        "outputId": "dbf3ad11-6fcb-4bc6-83f8-91f99b5525ad"
      },
      "execution_count": 67,
      "outputs": [
        {
          "output_type": "stream",
          "name": "stdout",
          "text": [
            "[[0 1 2 3]\n",
            " [4 5 6 7]]\n",
            "[[ 8  9 10 11]\n",
            " [12 13 14 15]]\n"
          ]
        }
      ]
    },
    {
      "cell_type": "code",
      "source": [
        "left, right = np.hsplit(grid, [2])\n",
        "print(left)\n",
        "print(right)"
      ],
      "metadata": {
        "colab": {
          "base_uri": "https://localhost:8080/"
        },
        "id": "S00a6dFRTL1_",
        "outputId": "5c8b577e-82c1-4f8c-e39d-7cb83979fab4"
      },
      "execution_count": 68,
      "outputs": [
        {
          "output_type": "stream",
          "name": "stdout",
          "text": [
            "[[ 0  1]\n",
            " [ 4  5]\n",
            " [ 8  9]\n",
            " [12 13]]\n",
            "[[ 2  3]\n",
            " [ 6  7]\n",
            " [10 11]\n",
            " [14 15]]\n"
          ]
        }
      ]
    },
    {
      "cell_type": "markdown",
      "source": [
        "**Iterating Over NumPy Array**\n",
        "\n",
        "NumPy contains an iterator object numpy.nditer , which is an efficient\n",
        "multidimensional iterator object to iterate over an array."
      ],
      "metadata": {
        "id": "dWIaBx1fTuzw"
      }
    },
    {
      "cell_type": "code",
      "source": [
        "arr = np.arange(1, 10).reshape((3,3))\n",
        "arr"
      ],
      "metadata": {
        "colab": {
          "base_uri": "https://localhost:8080/"
        },
        "id": "BevllCHFTs1j",
        "outputId": "78b213f7-8f4d-4e88-c4d7-71e51dccd331"
      },
      "execution_count": 69,
      "outputs": [
        {
          "output_type": "execute_result",
          "data": {
            "text/plain": [
              "array([[1, 2, 3],\n",
              "       [4, 5, 6],\n",
              "       [7, 8, 9]])"
            ]
          },
          "metadata": {},
          "execution_count": 69
        }
      ]
    },
    {
      "cell_type": "code",
      "source": [
        "# iterating the array, arr, using numpy.nditer()\n",
        "for i in np.nditer(arr):\n",
        "  print(i)"
      ],
      "metadata": {
        "colab": {
          "base_uri": "https://localhost:8080/"
        },
        "id": "2Br_-ddPUJYi",
        "outputId": "6fffa363-fe5e-4ce8-c8d4-6702ce600179"
      },
      "execution_count": 71,
      "outputs": [
        {
          "output_type": "stream",
          "name": "stdout",
          "text": [
            "1\n",
            "2\n",
            "3\n",
            "4\n",
            "5\n",
            "6\n",
            "7\n",
            "8\n",
            "9\n"
          ]
        }
      ]
    }
  ]
}