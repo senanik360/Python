{
  "nbformat": 4,
  "nbformat_minor": 0,
  "metadata": {
    "colab": {
      "provenance": []
    },
    "kernelspec": {
      "name": "python3",
      "display_name": "Python 3"
    },
    "language_info": {
      "name": "python"
    }
  },
  "cells": [
    {
      "cell_type": "markdown",
      "source": [
        "**NumPy (Numerical Python)**\n",
        "\n",
        "\n",
        "*   Efficient storage and manipulation of numerical arrays is absolutely fundamental to the process of doing data science.\n",
        "*   Numy is a specialized tool for handling such numerical arrays.\n",
        "\n",
        "\n",
        "*   NumPy arrays are like Python's built-in list type, but NumPy arrays provide much more efficient storage and data operations as the arrays grow larger in size.\n",
        "\n",
        "*   NumPy arrays form the core of nearly the entire ecosystem of data science tools in\n",
        "Python.\n",
        "*   Thus, learning NumPy to use it effectively will be valuable no matter what aspect of\n",
        "data science interests you.\n",
        "\n",
        "\n",
        "\n",
        "\n",
        "\n",
        "\n",
        "\n",
        "\n"
      ],
      "metadata": {
        "id": "Vrb9ZshUfzLl"
      }
    },
    {
      "cell_type": "markdown",
      "source": [
        "**Import Numpy**"
      ],
      "metadata": {
        "id": "aDF-VMMugeNB"
      }
    },
    {
      "cell_type": "code",
      "source": [
        "import numpy"
      ],
      "metadata": {
        "id": "7bf5iHzHgA-h"
      },
      "execution_count": 1,
      "outputs": []
    },
    {
      "cell_type": "markdown",
      "source": [
        "But, by convention, most of the people in Python data science world will import numpy as\n",
        "np as an alias."
      ],
      "metadata": {
        "id": "qtaEuWNUgm0M"
      }
    },
    {
      "cell_type": "code",
      "source": [
        "import numpy as np"
      ],
      "metadata": {
        "id": "lsnLHSMzgpXV"
      },
      "execution_count": 2,
      "outputs": []
    },
    {
      "cell_type": "markdown",
      "source": [
        "**Numpy Version**"
      ],
      "metadata": {
        "id": "7Dc0T826gtjE"
      }
    },
    {
      "cell_type": "code",
      "source": [
        "np.__version__"
      ],
      "metadata": {
        "colab": {
          "base_uri": "https://localhost:8080/",
          "height": 36
        },
        "id": "-yNZnvwNgsSf",
        "outputId": "7f34d439-0e75-4b24-8551-0c96463d639b"
      },
      "execution_count": 3,
      "outputs": [
        {
          "output_type": "execute_result",
          "data": {
            "text/plain": [
              "'1.22.4'"
            ],
            "application/vnd.google.colaboratory.intrinsic+json": {
              "type": "string"
            }
          },
          "metadata": {},
          "execution_count": 3
        }
      ]
    },
    {
      "cell_type": "markdown",
      "source": [
        "**Creating Arrays from Python Lists**"
      ],
      "metadata": {
        "id": "_xrglR5tg4He"
      }
    },
    {
      "cell_type": "code",
      "source": [
        "#integer array:\n",
        "np.array([2,4,6,8])"
      ],
      "metadata": {
        "colab": {
          "base_uri": "https://localhost:8080/"
        },
        "id": "tRXKzUnjg5j8",
        "outputId": "fed576ed-ad4b-45ed-e731-a3c639e7e658"
      },
      "execution_count": 4,
      "outputs": [
        {
          "output_type": "execute_result",
          "data": {
            "text/plain": [
              "array([2, 4, 6, 8])"
            ]
          },
          "metadata": {},
          "execution_count": 4
        }
      ]
    },
    {
      "cell_type": "markdown",
      "source": [
        "Remember that, NumPy arrays contain the same type of data. If does not match, it will\n",
        "upcast if possible."
      ],
      "metadata": {
        "id": "cdwUYMU_hCQu"
      }
    },
    {
      "cell_type": "code",
      "source": [
        "# Upcast to floating point array:\n",
        "np.array([2.5, 4, 6.7, 8, 10])"
      ],
      "metadata": {
        "colab": {
          "base_uri": "https://localhost:8080/"
        },
        "id": "i2y3wIrThGIJ",
        "outputId": "fc86d99f-72ea-4cc4-dd19-bad2c726c77d"
      },
      "execution_count": 5,
      "outputs": [
        {
          "output_type": "execute_result",
          "data": {
            "text/plain": [
              "array([ 2.5,  4. ,  6.7,  8. , 10. ])"
            ]
          },
          "metadata": {},
          "execution_count": 5
        }
      ]
    },
    {
      "cell_type": "code",
      "source": [
        "# Explicitly set the datatype using `dtype` keyword.\n",
        "np.array([2, 4, 6, 8, 10], dtype = 'float32')"
      ],
      "metadata": {
        "colab": {
          "base_uri": "https://localhost:8080/"
        },
        "id": "wMx8VTGehsBj",
        "outputId": "e35d644a-e19f-4e9b-d411-9a7301384508"
      },
      "execution_count": 6,
      "outputs": [
        {
          "output_type": "execute_result",
          "data": {
            "text/plain": [
              "array([ 2.,  4.,  6.,  8., 10.], dtype=float32)"
            ]
          },
          "metadata": {},
          "execution_count": 6
        }
      ]
    },
    {
      "cell_type": "markdown",
      "source": [
        "**Creating Arrays from Scratch**\n",
        "\n",
        "Especially for larger arrays, it is more efficient to create arrays from scratch using\n",
        "routines built into NumPy."
      ],
      "metadata": {
        "id": "SlWsbIxkh0a0"
      }
    },
    {
      "cell_type": "code",
      "source": [
        "# Create a length-10 integer array filled with zeros\n",
        "np.zeros(10, dtype=np.int16)"
      ],
      "metadata": {
        "colab": {
          "base_uri": "https://localhost:8080/"
        },
        "id": "ZCwDqw6fh6X1",
        "outputId": "6b9aac60-465b-4597-c222-8935a077be9e"
      },
      "execution_count": 7,
      "outputs": [
        {
          "output_type": "execute_result",
          "data": {
            "text/plain": [
              "array([0, 0, 0, 0, 0, 0, 0, 0, 0, 0], dtype=int16)"
            ]
          },
          "metadata": {},
          "execution_count": 7
        }
      ]
    },
    {
      "cell_type": "code",
      "source": [
        "# Create a length-10 floating point array filled with zeros\n",
        "np.zeros(10, dtype=np.int64) # float64 is default size for float of this"
      ],
      "metadata": {
        "colab": {
          "base_uri": "https://localhost:8080/"
        },
        "id": "Fvtouenml-Cj",
        "outputId": "95af0271-771c-454b-c531-fd812339e179"
      },
      "execution_count": 8,
      "outputs": [
        {
          "output_type": "execute_result",
          "data": {
            "text/plain": [
              "array([0, 0, 0, 0, 0, 0, 0, 0, 0, 0])"
            ]
          },
          "metadata": {},
          "execution_count": 8
        }
      ]
    },
    {
      "cell_type": "code",
      "source": [
        "# Create a 3x4 floating-point array filled with ones\n",
        "np.ones((3,4), dtype=np.int64) # int64 is default size for int of this system ("
      ],
      "metadata": {
        "colab": {
          "base_uri": "https://localhost:8080/"
        },
        "id": "5S3MuyOvmdSn",
        "outputId": "227be1a3-0e37-43a0-a5bf-e9586df77d51"
      },
      "execution_count": 9,
      "outputs": [
        {
          "output_type": "execute_result",
          "data": {
            "text/plain": [
              "array([[1, 1, 1, 1],\n",
              "       [1, 1, 1, 1],\n",
              "       [1, 1, 1, 1]])"
            ]
          },
          "metadata": {},
          "execution_count": 9
        }
      ]
    },
    {
      "cell_type": "code",
      "source": [
        "# Create a 3x4 array filled with 2.1416\n",
        "np.full((3,4), 2.1416)"
      ],
      "metadata": {
        "colab": {
          "base_uri": "https://localhost:8080/"
        },
        "id": "sP5al4zXmvOY",
        "outputId": "cd0451db-e645-493c-ac73-d04909816169"
      },
      "execution_count": 10,
      "outputs": [
        {
          "output_type": "execute_result",
          "data": {
            "text/plain": [
              "array([[2.1416, 2.1416, 2.1416, 2.1416],\n",
              "       [2.1416, 2.1416, 2.1416, 2.1416],\n",
              "       [2.1416, 2.1416, 2.1416, 2.1416]])"
            ]
          },
          "metadata": {},
          "execution_count": 10
        }
      ]
    },
    {
      "cell_type": "code",
      "source": [
        "# Create an array filled with a linear sequence\n",
        "# using np.arange(start, end, step)\n",
        "# (this is similar to the built-in range() function)\n",
        "np.arange(0,20,2)"
      ],
      "metadata": {
        "colab": {
          "base_uri": "https://localhost:8080/"
        },
        "id": "NjVz1ZsgnBwf",
        "outputId": "8ff41e43-a4fa-47b0-d3e1-835a1776bea4"
      },
      "execution_count": 11,
      "outputs": [
        {
          "output_type": "execute_result",
          "data": {
            "text/plain": [
              "array([ 0,  2,  4,  6,  8, 10, 12, 14, 16, 18])"
            ]
          },
          "metadata": {},
          "execution_count": 11
        }
      ]
    },
    {
      "cell_type": "code",
      "source": [
        "# Create an array of five values evenly spaced between 0 and 1\n",
        "np.linspace(0,1,5)"
      ],
      "metadata": {
        "colab": {
          "base_uri": "https://localhost:8080/"
        },
        "id": "qJZTZlvonyX3",
        "outputId": "44a093da-53b2-4875-cf9b-5bfefc3080be"
      },
      "execution_count": 12,
      "outputs": [
        {
          "output_type": "execute_result",
          "data": {
            "text/plain": [
              "array([0.  , 0.25, 0.5 , 0.75, 1.  ])"
            ]
          },
          "metadata": {},
          "execution_count": 12
        }
      ]
    },
    {
      "cell_type": "code",
      "source": [
        "# Create a 3x3 array of uniformly distributed\n",
        "# random values between 0 and 1\n",
        "np.random.random((3,3))"
      ],
      "metadata": {
        "colab": {
          "base_uri": "https://localhost:8080/"
        },
        "id": "pYLMcqxaopyC",
        "outputId": "3ca34b7c-8b44-4d44-944b-51aa58b95b95"
      },
      "execution_count": 13,
      "outputs": [
        {
          "output_type": "execute_result",
          "data": {
            "text/plain": [
              "array([[0.63255104, 0.62277276, 0.18355426],\n",
              "       [0.66376746, 0.57394692, 0.68349954],\n",
              "       [0.39455294, 0.21142675, 0.54954224]])"
            ]
          },
          "metadata": {},
          "execution_count": 13
        }
      ]
    },
    {
      "cell_type": "code",
      "source": [
        "# Create a 3x3 array of normally distributed random values\n",
        "# with mean 0 and standard deviation 1\n",
        "np.random.normal(0,1,(3,3))"
      ],
      "metadata": {
        "colab": {
          "base_uri": "https://localhost:8080/"
        },
        "id": "s2OqNJxtpTLo",
        "outputId": "7666a0d5-6611-454b-e1ff-ca65c94b9f1d"
      },
      "execution_count": 14,
      "outputs": [
        {
          "output_type": "execute_result",
          "data": {
            "text/plain": [
              "array([[-0.89639063,  0.43814182, -0.07360051],\n",
              "       [ 1.48534721, -0.43294645, -0.60597359],\n",
              "       [-0.00509252,  1.27709399, -0.94894232]])"
            ]
          },
          "metadata": {},
          "execution_count": 14
        }
      ]
    },
    {
      "cell_type": "code",
      "source": [
        "# Create a 3x3 array of random integers in the interval [0, 10)\n",
        "np.random.randint(0,10,(3,3))"
      ],
      "metadata": {
        "colab": {
          "base_uri": "https://localhost:8080/"
        },
        "id": "j81U1yb0pfjF",
        "outputId": "c0477e56-0448-4297-d86a-bc38af4b06ab"
      },
      "execution_count": 15,
      "outputs": [
        {
          "output_type": "execute_result",
          "data": {
            "text/plain": [
              "array([[0, 1, 3],\n",
              "       [6, 4, 6],\n",
              "       [5, 2, 2]])"
            ]
          },
          "metadata": {},
          "execution_count": 15
        }
      ]
    },
    {
      "cell_type": "code",
      "source": [
        "# Create a 5x5 identity matrix\n",
        "np.eye(5)"
      ],
      "metadata": {
        "colab": {
          "base_uri": "https://localhost:8080/"
        },
        "id": "J0D8Tf24qEDL",
        "outputId": "802c4b4d-cd8f-460d-df5c-d61f9a8e0ae8"
      },
      "execution_count": 16,
      "outputs": [
        {
          "output_type": "execute_result",
          "data": {
            "text/plain": [
              "array([[1., 0., 0., 0., 0.],\n",
              "       [0., 1., 0., 0., 0.],\n",
              "       [0., 0., 1., 0., 0.],\n",
              "       [0., 0., 0., 1., 0.],\n",
              "       [0., 0., 0., 0., 1.]])"
            ]
          },
          "metadata": {},
          "execution_count": 16
        }
      ]
    },
    {
      "cell_type": "code",
      "source": [
        "# Create an uninitialized array of five integers\n",
        "# The values will be whatever happens to already exist at that memory location\n",
        "np.empty(5)"
      ],
      "metadata": {
        "colab": {
          "base_uri": "https://localhost:8080/"
        },
        "id": "28yCNPObutiJ",
        "outputId": "2b65c36c-c372-4593-b7a2-ba615dc6884a"
      },
      "execution_count": 17,
      "outputs": [
        {
          "output_type": "execute_result",
          "data": {
            "text/plain": [
              "array([1., 1., 1., 1., 1.])"
            ]
          },
          "metadata": {},
          "execution_count": 17
        }
      ]
    },
    {
      "cell_type": "markdown",
      "source": [
        "**NumPy Array Attributes**"
      ],
      "metadata": {
        "id": "NYLqfGHQuz_Z"
      }
    },
    {
      "cell_type": "code",
      "source": [
        "# seed for reproducibility\n",
        "# Ensure that the same random arrays are generated each time this code is run\n",
        "np.random.seed(0)\n",
        "\n",
        "x1= np.random.randint(10, size=6) #one dimentional array\n",
        "x2 = np.random.randint(10, size=(3,4))\n",
        "x3 = np.random.randint(10, size=(3,4,5))"
      ],
      "metadata": {
        "id": "k20rdiuqu5EH"
      },
      "execution_count": 31,
      "outputs": []
    },
    {
      "cell_type": "code",
      "source": [
        "x1 # One-dimensional array"
      ],
      "metadata": {
        "colab": {
          "base_uri": "https://localhost:8080/"
        },
        "id": "QrAJPrCavOLu",
        "outputId": "158f0b01-1e83-4d5f-cc37-74aa66c3f986"
      },
      "execution_count": 26,
      "outputs": [
        {
          "output_type": "execute_result",
          "data": {
            "text/plain": [
              "array([[3, 5, 2, 4],\n",
              "       [7, 6, 8, 8],\n",
              "       [1, 6, 7, 7]])"
            ]
          },
          "metadata": {},
          "execution_count": 26
        }
      ]
    },
    {
      "cell_type": "code",
      "source": [
        "x2 # Two-dimensional array"
      ],
      "metadata": {
        "colab": {
          "base_uri": "https://localhost:8080/"
        },
        "id": "qkQT1rFavaOF",
        "outputId": "a83443c3-e6fe-474d-ccb4-6d1a7d7b7cdc"
      },
      "execution_count": 25,
      "outputs": [
        {
          "output_type": "execute_result",
          "data": {
            "text/plain": [
              "array([[3, 5, 2, 4],\n",
              "       [7, 6, 8, 8],\n",
              "       [1, 6, 7, 7]])"
            ]
          },
          "metadata": {},
          "execution_count": 25
        }
      ]
    },
    {
      "cell_type": "code",
      "source": [
        "x3 # Three-dimensional array"
      ],
      "metadata": {
        "colab": {
          "base_uri": "https://localhost:8080/"
        },
        "id": "isSliI4_yqpd",
        "outputId": "39f327ae-2d1b-47d0-cb2c-9c439e315749"
      },
      "execution_count": 32,
      "outputs": [
        {
          "output_type": "execute_result",
          "data": {
            "text/plain": [
              "array([[[8, 1, 5, 9, 8],\n",
              "        [9, 4, 3, 0, 3],\n",
              "        [5, 0, 2, 3, 8],\n",
              "        [1, 3, 3, 3, 7]],\n",
              "\n",
              "       [[0, 1, 9, 9, 0],\n",
              "        [4, 7, 3, 2, 7],\n",
              "        [2, 0, 0, 4, 5],\n",
              "        [5, 6, 8, 4, 1]],\n",
              "\n",
              "       [[4, 9, 8, 1, 1],\n",
              "        [7, 9, 9, 3, 6],\n",
              "        [7, 2, 0, 3, 5],\n",
              "        [9, 4, 4, 6, 4]]])"
            ]
          },
          "metadata": {},
          "execution_count": 32
        }
      ]
    },
    {
      "cell_type": "code",
      "source": [
        "# Example of NumPy array attributes\n",
        "print(\"x3 ndim: \", x3.ndim) #ndim (the number of dimensions)\n",
        "print(\"x3 shape: \", x2.shape) #shape (the size of each dimension)\n",
        "print(\"x3 size: \", x3.size) #"
      ],
      "metadata": {
        "colab": {
          "base_uri": "https://localhost:8080/"
        },
        "id": "QUNN1EM1y73Q",
        "outputId": "968ca207-7ecf-414c-da34-2d7afca78ff5"
      },
      "execution_count": 36,
      "outputs": [
        {
          "output_type": "stream",
          "name": "stdout",
          "text": [
            "x3 ndim:  3\n",
            "x3 shape:  (3, 4)\n"
          ]
        }
      ]
    },
    {
      "cell_type": "markdown",
      "source": [],
      "metadata": {
        "id": "QwwxU-cigs2M"
      }
    }
  ]
}